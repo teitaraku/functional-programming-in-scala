{
 "cells": [
  {
   "cell_type": "markdown",
   "metadata": {},
   "source": [
    "# 関数プログラミング\n",
    "* 純粋関数\n",
    "* 参照透過性\n",
    "* 高階関数\n",
    "### 純粋関数\n",
    "* 副作用がない関数のこと\n",
    "* 純粋関数の例\n",
    "    - `\"hoge\".length`\n",
    "    - `1 + 2`\n",
    "* 非純粋関数の例\n",
    "    - `printf(\"hoge\")`\n",
    "* 副作用があるとテストしにくい、何をしているかわからないといったデメリットがあるので、関数プログラミングではできるだけ純粋関数で書くのが基本スタイル\n",
    "### 参照透過性(referential transparency)\n",
    "* 式をその結果に置き換えることができる\n",
    "* 式が参照透過であれば、代数方程式を解く場合と同じように計算を進めることができる\n",
    "### 高階関数\n",
    "* 関数は値である\n",
    "* 別の関数を引数として受け取る関数"
   ]
  },
  {
   "cell_type": "markdown",
   "metadata": {},
   "source": [
    "## Scala 文法\n",
    "\n",
    "### 共変・非変\n",
    "Java では List[String] は List[Object] のサブタイプではない。\n",
    "Scala ではこれを実現するために共変がある\n",
    "* List[A]\n",
    "    - 非変\n",
    "    - 普通のやつ\n",
    "* List[+A]\n",
    "    - 共変\n",
    "    - AのサブタイプならOK\n",
    "* List[-A]\n",
    "    - 反変\n",
    "    - AのスーパータイプならOK\n",
    "### コンパニオンオブジェクト\n",
    "* データ型と同じ名前の object であり、そのデータ型を作成・操作する便利な関数を定義する"
   ]
  }
 ],
 "metadata": {
  "kernelspec": {
   "display_name": "Scala",
   "language": "scala",
   "name": "scala"
  },
  "language_info": {
   "codemirror_mode": "text/x-scala",
   "file_extension": ".scala",
   "mimetype": "text/x-scala",
   "name": "scala211",
   "nbconvert_exporter": "script",
   "pygments_lexer": "scala",
   "version": "2.11.11"
  }
 },
 "nbformat": 4,
 "nbformat_minor": 2
}
