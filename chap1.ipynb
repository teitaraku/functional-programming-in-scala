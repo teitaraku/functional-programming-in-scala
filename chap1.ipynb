{
 "cells": [
  {
   "cell_type": "markdown",
   "metadata": {},
   "source": [
    "### 参照透過の例"
   ]
  },
  {
   "cell_type": "code",
   "execution_count": 2,
   "metadata": {},
   "outputs": [
    {
     "data": {
      "text/plain": [
       "\u001b[36mx\u001b[39m: \u001b[32mString\u001b[39m = \u001b[32m\"Hello, World\"\u001b[39m"
      ]
     },
     "execution_count": 2,
     "metadata": {},
     "output_type": "execute_result"
    }
   ],
   "source": [
    "val x = \"Hello, World\""
   ]
  },
  {
   "cell_type": "code",
   "execution_count": 3,
   "metadata": {},
   "outputs": [
    {
     "data": {
      "text/plain": [
       "\u001b[36mr1\u001b[39m: \u001b[32mString\u001b[39m = \u001b[32m\"dlroW ,olleH\"\u001b[39m"
      ]
     },
     "execution_count": 3,
     "metadata": {},
     "output_type": "execute_result"
    }
   ],
   "source": [
    "val r1 = x.reverse"
   ]
  },
  {
   "cell_type": "code",
   "execution_count": 4,
   "metadata": {},
   "outputs": [
    {
     "data": {
      "text/plain": [
       "\u001b[36mr2\u001b[39m: \u001b[32mString\u001b[39m = \u001b[32m\"dlroW ,olleH\"\u001b[39m"
      ]
     },
     "execution_count": 4,
     "metadata": {},
     "output_type": "execute_result"
    }
   ],
   "source": [
    "val r2 = x.reverse"
   ]
  },
  {
   "cell_type": "markdown",
   "metadata": {},
   "source": [
    "全ての x を x が参照している式と置き換えてみる"
   ]
  },
  {
   "cell_type": "code",
   "execution_count": 5,
   "metadata": {},
   "outputs": [
    {
     "data": {
      "text/plain": [
       "\u001b[36mr1\u001b[39m: \u001b[32mString\u001b[39m = \u001b[32m\"dlroW ,olleH\"\u001b[39m"
      ]
     },
     "execution_count": 5,
     "metadata": {},
     "output_type": "execute_result"
    }
   ],
   "source": [
    "val r1 = \"Hello, World\".reverse"
   ]
  },
  {
   "cell_type": "code",
   "execution_count": 6,
   "metadata": {},
   "outputs": [
    {
     "data": {
      "text/plain": [
       "\u001b[36mr2\u001b[39m: \u001b[32mString\u001b[39m = \u001b[32m\"dlroW ,olleH\"\u001b[39m"
      ]
     },
     "execution_count": 6,
     "metadata": {},
     "output_type": "execute_result"
    }
   ],
   "source": [
    "val r2 = \"Hello, World\".reverse"
   ]
  },
  {
   "cell_type": "markdown",
   "metadata": {},
   "source": [
    "### 参照透過ではない例"
   ]
  },
  {
   "cell_type": "code",
   "execution_count": 7,
   "metadata": {},
   "outputs": [
    {
     "data": {
      "text/plain": [
       "\u001b[36mx\u001b[39m: \u001b[32mStringBuilder\u001b[39m = \u001b[33mStringBuilder\u001b[39m(\u001b[32m'H'\u001b[39m, \u001b[32m'e'\u001b[39m, \u001b[32m'l'\u001b[39m, \u001b[32m'l'\u001b[39m, \u001b[32m'o'\u001b[39m)"
      ]
     },
     "execution_count": 7,
     "metadata": {},
     "output_type": "execute_result"
    }
   ],
   "source": [
    "val x = new StringBuilder(\"Hello\")"
   ]
  },
  {
   "cell_type": "code",
   "execution_count": 8,
   "metadata": {},
   "outputs": [
    {
     "data": {
      "text/plain": [
       "\u001b[36my\u001b[39m: \u001b[32mStringBuilder\u001b[39m = \u001b[33mStringBuilder\u001b[39m(\u001b[32m'H'\u001b[39m, \u001b[32m'e'\u001b[39m, \u001b[32m'l'\u001b[39m, \u001b[32m'l'\u001b[39m, \u001b[32m'o'\u001b[39m, \u001b[32m','\u001b[39m, \u001b[32m' '\u001b[39m, \u001b[32m'W'\u001b[39m, \u001b[32m'o'\u001b[39m, \u001b[32m'r'\u001b[39m, \u001b[32m'l'\u001b[39m, \u001b[32m'd'\u001b[39m)"
      ]
     },
     "execution_count": 8,
     "metadata": {},
     "output_type": "execute_result"
    }
   ],
   "source": [
    "val y = x.append(\", World\")"
   ]
  },
  {
   "cell_type": "code",
   "execution_count": 9,
   "metadata": {},
   "outputs": [
    {
     "data": {
      "text/plain": [
       "\u001b[36mr1\u001b[39m: \u001b[32mString\u001b[39m = \u001b[32m\"Hello, World\"\u001b[39m\n",
       "\u001b[36mr2\u001b[39m: \u001b[32mString\u001b[39m = \u001b[32m\"Hello, World\"\u001b[39m"
      ]
     },
     "execution_count": 9,
     "metadata": {},
     "output_type": "execute_result"
    }
   ],
   "source": [
    "val r1 = y.toString\n",
    "val r2 = y.toString"
   ]
  },
  {
   "cell_type": "markdown",
   "metadata": {},
   "source": [
    "ここまでは問題なし"
   ]
  },
  {
   "cell_type": "code",
   "execution_count": 11,
   "metadata": {},
   "outputs": [
    {
     "data": {
      "text/plain": [
       "\u001b[36mx\u001b[39m: \u001b[32mStringBuilder\u001b[39m = \u001b[33mStringBuilder\u001b[39m(\n",
       "  \u001b[32m'H'\u001b[39m,\n",
       "  \u001b[32m'e'\u001b[39m,\n",
       "  \u001b[32m'l'\u001b[39m,\n",
       "  \u001b[32m'l'\u001b[39m,\n",
       "  \u001b[32m'o'\u001b[39m,\n",
       "  \u001b[32m','\u001b[39m,\n",
       "  \u001b[32m' '\u001b[39m,\n",
       "  \u001b[32m'W'\u001b[39m,\n",
       "  \u001b[32m'o'\u001b[39m,\n",
       "  \u001b[32m'r'\u001b[39m,\n",
       "  \u001b[32m'l'\u001b[39m,\n",
       "\u001b[33m...\u001b[39m\n",
       "\u001b[36mr1\u001b[39m: \u001b[32mString\u001b[39m = \u001b[32m\"Hello, World\"\u001b[39m\n",
       "\u001b[36mr2\u001b[39m: \u001b[32mString\u001b[39m = \u001b[32m\"Hello, World, World\"\u001b[39m"
      ]
     },
     "execution_count": 11,
     "metadata": {},
     "output_type": "execute_result"
    }
   ],
   "source": [
    "val x = new StringBuilder(\"Hello\")\n",
    "val r1 = x.append(\", World\").toString\n",
    "val r2 = x.append(\", World\").toString"
   ]
  },
  {
   "cell_type": "markdown",
   "metadata": {},
   "source": [
    "* x.append は x を変えてしまう\n",
    "* x の状態さえ変えなければチェーンできるから便利なのに"
   ]
  }
 ],
 "metadata": {
  "kernelspec": {
   "display_name": "Scala",
   "language": "scala",
   "name": "scala"
  },
  "language_info": {
   "codemirror_mode": "text/x-scala",
   "file_extension": ".scala",
   "mimetype": "text/x-scala",
   "name": "scala211",
   "nbconvert_exporter": "script",
   "pygments_lexer": "scala",
   "version": "2.11.11"
  }
 },
 "nbformat": 4,
 "nbformat_minor": 2
}
