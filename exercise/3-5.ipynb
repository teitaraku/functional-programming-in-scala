{
 "cells": [
  {
   "cell_type": "markdown",
   "metadata": {},
   "source": [
    "### Exercise 3.5\n",
    "述語とマッチする場合に限り、Listからその要素までの要素を削除する dropWhile を実装せよ\n",
    "\n",
    "```scala\n",
    "def dropWhile[A](l: List[A], f: A => Boolean): List[A]\n",
    "```"
   ]
  },
  {
   "cell_type": "code",
   "execution_count": 1,
   "metadata": {},
   "outputs": [
    {
     "data": {
      "text/plain": [
       "defined \u001b[32mtrait\u001b[39m \u001b[36mList\u001b[39m\n",
       "defined \u001b[32mobject\u001b[39m \u001b[36mNil\u001b[39m\n",
       "defined \u001b[32mclass\u001b[39m \u001b[36mCons\u001b[39m\n",
       "defined \u001b[32mobject\u001b[39m \u001b[36mList\u001b[39m"
      ]
     },
     "execution_count": 1,
     "metadata": {},
     "output_type": "execute_result"
    }
   ],
   "source": [
    "sealed trait List[+A]\n",
    "case object Nil extends List[Nothing]\n",
    "case class Cons[+A](head: A, tail: List[A]) extends List[A]\n",
    "\n",
    "object List {\n",
    "    def sum(ints: List[Int]): Int = ints match {\n",
    "        case Nil => 0\n",
    "        case Cons(x, xs) => x + sum(xs)\n",
    "    }\n",
    "    \n",
    "    def apply[A](as: A*): List[A] =\n",
    "      if (as.isEmpty) Nil\n",
    "      else Cons(as.head, apply(as.tail: _*))\n",
    "}"
   ]
  },
  {
   "cell_type": "code",
   "execution_count": 9,
   "metadata": {},
   "outputs": [
    {
     "data": {
      "text/plain": [
       "defined \u001b[32mfunction\u001b[39m \u001b[36mtail\u001b[39m\n",
       "defined \u001b[32mfunction\u001b[39m \u001b[36mdrop\u001b[39m\n",
       "defined \u001b[32mfunction\u001b[39m \u001b[36mdropWhile\u001b[39m"
      ]
     },
     "execution_count": 9,
     "metadata": {},
     "output_type": "execute_result"
    }
   ],
   "source": [
    "def tail[A](as: List[A]): List[A] = as match {\n",
    "    case Nil => Nil\n",
    "    case Cons(x, xs) => xs\n",
    "}\n",
    "\n",
    "def drop[A](l: List[A], n: Int): List[A] = n match {\n",
    "    case 0 => l\n",
    "    case _ => drop(tail(l), n - 1)\n",
    "}\n",
    "\n",
    "def dropWhile[A](l: List[A], f: A => Boolean): List[A] = l match {\n",
    "    case Cons(x, xs) => {\n",
    "        if (f(x)) dropWhile(xs, f)\n",
    "        else l\n",
    "    }\n",
    "    case Nil => Nil\n",
    "}"
   ]
  },
  {
   "cell_type": "code",
   "execution_count": 10,
   "metadata": {},
   "outputs": [
    {
     "data": {
      "text/plain": [
       "\u001b[36mf\u001b[39m: \u001b[32mInt\u001b[39m => \u001b[32mBoolean\u001b[39m = <function1>\n",
       "\u001b[36mres9_1\u001b[39m: \u001b[32mList\u001b[39m[\u001b[32mInt\u001b[39m] = Cons(2,Cons(2,Cons(1,Cons(1,Nil))))"
      ]
     },
     "execution_count": 10,
     "metadata": {},
     "output_type": "execute_result"
    }
   ],
   "source": [
    "val f: Int => Boolean = x => x == 1\n",
    "dropWhile(List(1, 1, 2, 2, 1, 1), f)"
   ]
  }
 ],
 "metadata": {
  "kernelspec": {
   "display_name": "Scala",
   "language": "scala",
   "name": "scala"
  },
  "language_info": {
   "codemirror_mode": "text/x-scala",
   "file_extension": ".scala",
   "mimetype": "text/x-scala",
   "name": "scala211",
   "nbconvert_exporter": "script",
   "pygments_lexer": "scala",
   "version": "2.11.11"
  }
 },
 "nbformat": 4,
 "nbformat_minor": 2
}
