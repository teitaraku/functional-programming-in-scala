{
 "cells": [
  {
   "cell_type": "markdown",
   "metadata": {},
   "source": [
    "### Exercise 3.1\n",
    "以下のマッチ式はどのような結果になるか\n",
    "\n",
    "```scala\n",
    "val x = List(1, 2, 3, 4, 5) match {\n",
    "  case Cons(x, Cons(2, Cons(4, _))) => x\n",
    "  case Nil => 42\n",
    "  case Cons(x, Cons(y, Cons(3, Cons(4, _)))) => x + y\n",
    "  case Cons(h, t) => h + sum(t)\n",
    "  case _ => 101\n",
    "}\n",
    "```"
   ]
  },
  {
   "cell_type": "markdown",
   "metadata": {},
   "source": [
    "* 最初のcaseは2の次が4になっているのでマッチしない\n",
    "* 2つ目は Nil じゃないのでマッチしない\n",
    "* 3つ目はマッチする\n",
    "* 従って 3 が返るのが正解かな"
   ]
  },
  {
   "cell_type": "code",
   "execution_count": 1,
   "metadata": {},
   "outputs": [
    {
     "data": {
      "text/plain": [
       "defined \u001b[32mtrait\u001b[39m \u001b[36mList\u001b[39m\n",
       "defined \u001b[32mobject\u001b[39m \u001b[36mNil\u001b[39m\n",
       "defined \u001b[32mclass\u001b[39m \u001b[36mCons\u001b[39m\n",
       "defined \u001b[32mobject\u001b[39m \u001b[36mList\u001b[39m\n",
       "\u001b[36mx\u001b[39m: \u001b[32mInt\u001b[39m = \u001b[32m3\u001b[39m"
      ]
     },
     "execution_count": 1,
     "metadata": {},
     "output_type": "execute_result"
    }
   ],
   "source": [
    "sealed trait List[+A]\n",
    "case object Nil extends List[Nothing]\n",
    "case class Cons[+A](head: A, tail: List[A]) extends List[A]\n",
    "\n",
    "object List {\n",
    "    def sum(ints: List[Int]): Int = ints match {\n",
    "        case Nil => 0\n",
    "        case Cons(x, xs) => x + sum(xs)\n",
    "    }\n",
    "    \n",
    "    def apply[A](as: A*): List[A] =\n",
    "      if (as.isEmpty) Nil\n",
    "      else Cons(as.head, apply(as.tail: _*))\n",
    "}\n",
    "\n",
    "val x = List(1, 2, 3, 4, 5) match {\n",
    "  case Cons(x, Cons(2, Cons(4, _))) => x\n",
    "  case Nil => 42\n",
    "  case Cons(x, Cons(y, Cons(3, Cons(4, _)))) => x + y\n",
    "  case Cons(h, t) => h + List.sum(t)\n",
    "  case _ => 101\n",
    "}"
   ]
  },
  {
   "cell_type": "markdown",
   "metadata": {},
   "source": [
    "* `sum()` のスコープが外れていて `List.sum()` としないと参照できなかった\n",
    "* 正解"
   ]
  }
 ],
 "metadata": {
  "kernelspec": {
   "display_name": "Scala",
   "language": "scala",
   "name": "scala"
  },
  "language_info": {
   "codemirror_mode": "text/x-scala",
   "file_extension": ".scala",
   "mimetype": "text/x-scala",
   "name": "scala211",
   "nbconvert_exporter": "script",
   "pygments_lexer": "scala",
   "version": "2.11.11"
  }
 },
 "nbformat": 4,
 "nbformat_minor": 2
}
