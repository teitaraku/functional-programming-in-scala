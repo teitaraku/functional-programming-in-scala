{
 "cells": [
  {
   "cell_type": "code",
   "execution_count": 8,
   "metadata": {},
   "outputs": [
    {
     "data": {
      "text/plain": [
       "defined \u001b[32mobject\u001b[39m \u001b[36mMyModule\u001b[39m"
      ]
     },
     "execution_count": 8,
     "metadata": {},
     "output_type": "execute_result"
    }
   ],
   "source": [
    "object MyModule {\n",
    "    def abs(n: Int): Int =\n",
    "      if (n < 0) -n\n",
    "      else n\n",
    "    \n",
    "    private def formatAbs(x: Int) = {\n",
    "        val msg = \"The absolute value of %d is %d\"\n",
    "        msg.format(x, abs(x))\n",
    "    }\n",
    "    \n",
    "    def factorial(n: Int): Int = {\n",
    "        def go(n: Int, acc: Int): Int =\n",
    "          if (n <= 0) acc\n",
    "          else go(n-1, n*acc)\n",
    "        \n",
    "        go(n, 1)\n",
    "    }\n",
    "}"
   ]
  },
  {
   "cell_type": "code",
   "execution_count": 2,
   "metadata": {},
   "outputs": [
    {
     "data": {
      "text/plain": [
       "\u001b[36mres1\u001b[39m: \u001b[32mInt\u001b[39m = \u001b[32m3\u001b[39m"
      ]
     },
     "execution_count": 2,
     "metadata": {},
     "output_type": "execute_result"
    }
   ],
   "source": [
    "MyModule.abs(3)"
   ]
  },
  {
   "cell_type": "code",
   "execution_count": 5,
   "metadata": {},
   "outputs": [
    {
     "data": {
      "text/plain": [
       "\u001b[36mres4\u001b[39m: \u001b[32mInt\u001b[39m = \u001b[32m42\u001b[39m"
      ]
     },
     "execution_count": 5,
     "metadata": {},
     "output_type": "execute_result"
    }
   ],
   "source": [
    "MyModule abs -42"
   ]
  },
  {
   "cell_type": "code",
   "execution_count": 4,
   "metadata": {},
   "outputs": [
    {
     "data": {
      "text/plain": [
       "\u001b[36mres3\u001b[39m: \u001b[32mArray\u001b[39m[\u001b[32mString\u001b[39m] => \u001b[32mUnit\u001b[39m = <function1>"
      ]
     },
     "execution_count": 4,
     "metadata": {},
     "output_type": "execute_result"
    }
   ],
   "source": [
    "MyModule.main(_)"
   ]
  },
  {
   "cell_type": "markdown",
   "metadata": {},
   "source": [
    "* java\n",
    "    - import Scalaz.*\n",
    "* scala\n",
    "    - import Scalaz._"
   ]
  },
  {
   "cell_type": "code",
   "execution_count": 10,
   "metadata": {},
   "outputs": [
    {
     "data": {
      "text/plain": [
       "defined \u001b[32mobject\u001b[39m \u001b[36mMyModule\u001b[39m"
      ]
     },
     "execution_count": 10,
     "metadata": {},
     "output_type": "execute_result"
    }
   ],
   "source": [
    "object MyModule {\n",
    "    def abs(n: Int): Int =\n",
    "      if (n < 0) -n\n",
    "      else n\n",
    "    \n",
    "    def formatAbs(x: Int) = {\n",
    "        val msg = \"The absolute value of %d is %d\"\n",
    "        msg.format(x, abs(x))\n",
    "    }\n",
    "    \n",
    "    def factorial(n: Int): Int = {\n",
    "        def go(n: Int, acc: Int): Int =\n",
    "          if (n <= 0) acc\n",
    "          else go(n-1, n*acc)\n",
    "        \n",
    "        go(n, 1)\n",
    "    }\n",
    "    \n",
    "    def formatFactorial(n: Int) = {\n",
    "        val msg = \"The factorial of %d is %d.\"\n",
    "        msg.format(n, factorial(n))\n",
    "    }\n",
    "}"
   ]
  },
  {
   "cell_type": "code",
   "execution_count": 11,
   "metadata": {},
   "outputs": [
    {
     "name": "stdout",
     "output_type": "stream",
     "text": [
      "The absolute value of -42 is 42\n",
      "The factorial of 7 is 5040.\n"
     ]
    }
   ],
   "source": [
    "println(MyModule.formatAbs(-42))\n",
    "println(MyModule.formatFactorial(7))"
   ]
  },
  {
   "cell_type": "code",
   "execution_count": 1,
   "metadata": {},
   "outputs": [
    {
     "data": {
      "text/plain": [
       "defined \u001b[32mobject\u001b[39m \u001b[36mMyModule\u001b[39m"
      ]
     },
     "execution_count": 1,
     "metadata": {},
     "output_type": "execute_result"
    }
   ],
   "source": [
    "object MyModule {\n",
    "    def abs(n: Int): Int =\n",
    "      if (n < 0) -n\n",
    "      else n\n",
    "    \n",
    "    def formatAbs(x: Int) = {\n",
    "        val msg = \"The absolute value of %d is %d\"\n",
    "        msg.format(x, abs(x))\n",
    "    }\n",
    "    \n",
    "    def factorial(n: Int): Int = {\n",
    "        def go(n: Int, acc: Int): Int =\n",
    "          if (n <= 0) acc\n",
    "          else go(n-1, n*acc)\n",
    "        \n",
    "        go(n, 1)\n",
    "    }\n",
    "    \n",
    "    def formatFactorial(n: Int) = {\n",
    "        val msg = \"The factorial of %d is %d.\"\n",
    "        msg.format(n, factorial(n))\n",
    "    }\n",
    "    \n",
    "    def formatResult(name: String, n: Int, f: Int => Int) = {\n",
    "        val msg = \"The %s of %d is %d.\"\n",
    "        msg.format(name, n, f(n))\n",
    "    }\n",
    "}"
   ]
  },
  {
   "cell_type": "code",
   "execution_count": 2,
   "metadata": {},
   "outputs": [
    {
     "data": {
      "text/plain": [
       "\u001b[36mres1\u001b[39m: \u001b[32mString\u001b[39m = \u001b[32m\"The absolute value of -42 is 42.\"\u001b[39m"
      ]
     },
     "execution_count": 2,
     "metadata": {},
     "output_type": "execute_result"
    }
   ],
   "source": [
    "MyModule.formatResult(\"absolute value\", -42, MyModule.abs)"
   ]
  },
  {
   "cell_type": "code",
   "execution_count": 3,
   "metadata": {},
   "outputs": [
    {
     "data": {
      "text/plain": [
       "\u001b[36mres2\u001b[39m: \u001b[32mString\u001b[39m = \u001b[32m\"The factorial of 7 is 5040.\"\u001b[39m"
      ]
     },
     "execution_count": 3,
     "metadata": {},
     "output_type": "execute_result"
    }
   ],
   "source": [
    "MyModule.formatResult(\"factorial\", 7, MyModule.factorial)"
   ]
  },
  {
   "cell_type": "code",
   "execution_count": 4,
   "metadata": {},
   "outputs": [
    {
     "data": {
      "text/plain": [
       "defined \u001b[32mfunction\u001b[39m \u001b[36mfindFirst\u001b[39m"
      ]
     },
     "execution_count": 4,
     "metadata": {},
     "output_type": "execute_result"
    }
   ],
   "source": [
    "def findFirst(ss: Array[String], key: String): Int = {\n",
    "    @annotation.tailrec\n",
    "    def loop(n: Int): Int =\n",
    "      if (n >= ss.length) -1\n",
    "      else if (ss(n) == key) n\n",
    "      else loop(n + 1)\n",
    "    \n",
    "    loop(0)\n",
    "}"
   ]
  },
  {
   "cell_type": "code",
   "execution_count": 5,
   "metadata": {},
   "outputs": [
    {
     "data": {
      "text/plain": [
       "defined \u001b[32mfunction\u001b[39m \u001b[36mfindFirst\u001b[39m"
      ]
     },
     "execution_count": 5,
     "metadata": {},
     "output_type": "execute_result"
    }
   ],
   "source": [
    "def findFirst[A](as: Array[A], p: A => Boolean): Int = {\n",
    "    @annotation.tailrec\n",
    "    def loop(n: Int): Int =\n",
    "      if (n >= as.length) -1\n",
    "      else if (p(as(n))) n\n",
    "      else loop(n + 1)\n",
    "    \n",
    "    loop(0)\n",
    "}"
   ]
  },
  {
   "cell_type": "code",
   "execution_count": 6,
   "metadata": {},
   "outputs": [
    {
     "data": {
      "text/plain": [
       "\u001b[36mres5\u001b[39m: \u001b[32mInt\u001b[39m = \u001b[32m1\u001b[39m"
      ]
     },
     "execution_count": 6,
     "metadata": {},
     "output_type": "execute_result"
    }
   ],
   "source": [
    "findFirst(Array(7, 9, 13), (x: Int) => x == 9)"
   ]
  },
  {
   "cell_type": "code",
   "execution_count": 7,
   "metadata": {},
   "outputs": [
    {
     "data": {
      "text/plain": [
       "\u001b[36mres6\u001b[39m: \u001b[32mBoolean\u001b[39m = \u001b[32mtrue\u001b[39m"
      ]
     },
     "execution_count": 7,
     "metadata": {},
     "output_type": "execute_result"
    }
   ],
   "source": [
    "2 >= 1"
   ]
  },
  {
   "cell_type": "code",
   "execution_count": 7,
   "metadata": {},
   "outputs": [
    {
     "ename": "",
     "evalue": "",
     "execution_count": 7,
     "output_type": "error",
     "status": "error",
     "traceback": [
      "<console>:1: ';' expected but '=>' found.",
      "2 => 1",
      "  ^"
     ]
    }
   ],
   "source": [
    "2 => 1"
   ]
  },
  {
   "cell_type": "code",
   "execution_count": 1,
   "metadata": {},
   "outputs": [
    {
     "data": {
      "text/plain": [
       "\u001b[36mres0\u001b[39m: (\u001b[32mInt\u001b[39m, \u001b[32mInt\u001b[39m) => \u001b[32mBoolean\u001b[39m = <function2>"
      ]
     },
     "execution_count": 1,
     "metadata": {},
     "output_type": "execute_result"
    }
   ],
   "source": [
    "(x: Int, y: Int) => x == y"
   ]
  },
  {
   "cell_type": "code",
   "execution_count": 2,
   "metadata": {},
   "outputs": [
    {
     "data": {
      "text/plain": [
       "defined \u001b[32mfunction\u001b[39m \u001b[36mpartial1\u001b[39m"
      ]
     },
     "execution_count": 2,
     "metadata": {},
     "output_type": "execute_result"
    }
   ],
   "source": [
    "def partial1[A,B,C](a: A, f: (A,B) => C): B => C =\n",
    "  (b: B) => f(a, b)"
   ]
  },
  {
   "cell_type": "code",
   "execution_count": 3,
   "metadata": {},
   "outputs": [
    {
     "data": {
      "text/plain": [
       "\u001b[36mf\u001b[39m: \u001b[32mDouble\u001b[39m => \u001b[32mDouble\u001b[39m = <function1>"
      ]
     },
     "execution_count": 3,
     "metadata": {},
     "output_type": "execute_result"
    }
   ],
   "source": [
    "val f = (x: Double) => math.Pi / 2 - x"
   ]
  },
  {
   "cell_type": "code",
   "execution_count": 4,
   "metadata": {},
   "outputs": [
    {
     "data": {
      "text/plain": [
       "\u001b[36mcos\u001b[39m: \u001b[32mDouble\u001b[39m => \u001b[32mDouble\u001b[39m = <function1>"
      ]
     },
     "execution_count": 4,
     "metadata": {},
     "output_type": "execute_result"
    }
   ],
   "source": [
    "val cos = f andThen math.sin"
   ]
  },
  {
   "cell_type": "code",
   "execution_count": null,
   "metadata": {},
   "outputs": [],
   "source": []
  },
  {
   "cell_type": "code",
   "execution_count": null,
   "metadata": {},
   "outputs": [],
   "source": []
  }
 ],
 "metadata": {
  "kernelspec": {
   "display_name": "Scala",
   "language": "scala",
   "name": "scala"
  },
  "language_info": {
   "codemirror_mode": "text/x-scala",
   "file_extension": ".scala",
   "mimetype": "text/x-scala",
   "name": "scala211",
   "nbconvert_exporter": "script",
   "pygments_lexer": "scala",
   "version": "2.11.11"
  }
 },
 "nbformat": 4,
 "nbformat_minor": 2
}
